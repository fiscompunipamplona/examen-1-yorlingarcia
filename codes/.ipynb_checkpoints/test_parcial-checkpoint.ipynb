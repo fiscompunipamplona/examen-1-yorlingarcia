{
 "cells": [
  {
   "cell_type": "code",
   "execution_count": 77,
   "metadata": {},
   "outputs": [],
   "source": [
    "import matplotlib.pyplot as plt\n",
    "import numpy as np\n",
    "import bz2"
   ]
  },
  {
   "cell_type": "code",
   "execution_count": 79,
   "metadata": {},
   "outputs": [
    {
     "ename": "TypeError",
     "evalue": "unsupported operand type(s) for +: 'int' and 'numpy.str_'",
     "output_type": "error",
     "traceback": [
      "\u001b[1;31m---------------------------------------------------------------------------\u001b[0m",
      "\u001b[1;31mTypeError\u001b[0m                                 Traceback (most recent call last)",
      "\u001b[1;32m<ipython-input-79-00f76629d23f>\u001b[0m in \u001b[0;36m<module>\u001b[1;34m\u001b[0m\n\u001b[0;32m     28\u001b[0m \u001b[0mQ\u001b[0m \u001b[1;33m=\u001b[0m \u001b[0mnp\u001b[0m\u001b[1;33m.\u001b[0m\u001b[0mzeros\u001b[0m\u001b[1;33m(\u001b[0m\u001b[0mlen\u001b[0m\u001b[1;33m(\u001b[0m\u001b[0mdatos\u001b[0m\u001b[1;33m)\u001b[0m\u001b[1;33m)\u001b[0m\u001b[1;33m\u001b[0m\u001b[1;33m\u001b[0m\u001b[0m\n\u001b[0;32m     29\u001b[0m \u001b[1;32mfor\u001b[0m \u001b[0mi\u001b[0m \u001b[1;32min\u001b[0m \u001b[0mrange\u001b[0m\u001b[1;33m(\u001b[0m\u001b[0mlen\u001b[0m\u001b[1;33m(\u001b[0m\u001b[0mdatos\u001b[0m\u001b[1;33m)\u001b[0m\u001b[1;33m)\u001b[0m\u001b[1;33m:\u001b[0m\u001b[1;33m\u001b[0m\u001b[1;33m\u001b[0m\u001b[0m\n\u001b[1;32m---> 30\u001b[1;33m     \u001b[0mQ\u001b[0m\u001b[1;33m[\u001b[0m\u001b[0mi\u001b[0m\u001b[1;33m]\u001b[0m \u001b[1;33m=\u001b[0m \u001b[0msum\u001b[0m\u001b[1;33m(\u001b[0m\u001b[0mdatos\u001b[0m\u001b[1;33m[\u001b[0m\u001b[0mi\u001b[0m\u001b[1;33m]\u001b[0m\u001b[1;33m)\u001b[0m\u001b[1;33m\u001b[0m\u001b[1;33m\u001b[0m\u001b[0m\n\u001b[0m\u001b[0;32m     31\u001b[0m \u001b[1;31m#plt.plot(Q)\u001b[0m\u001b[1;33m\u001b[0m\u001b[1;33m\u001b[0m\u001b[1;33m\u001b[0m\u001b[0m\n\u001b[0;32m     32\u001b[0m \u001b[1;31m##############################################\u001b[0m\u001b[1;33m\u001b[0m\u001b[1;33m\u001b[0m\u001b[1;33m\u001b[0m\u001b[0m\n",
      "\u001b[1;31mTypeError\u001b[0m: unsupported operand type(s) for +: 'int' and 'numpy.str_'"
     ]
    }
   ],
   "source": [
    "###############################################################\n",
    "# lee el archivo .bz2 y guarda la primera columna de numeros\n",
    "# teniendo en cuenta que solo lee las listas mayores a 2 columnas y 12 bines\n",
    "n = 0\n",
    "datos = []\n",
    "aux = 0\n",
    "auxDat = []\n",
    "with bz2.open(\"Chitaga.dat.bz2\", \"rt\" ) as bz_file:\n",
    "    for line in bz_file:\n",
    "        rline = line.rstrip('\\n').split(' ')\n",
    "        if len(rline) >= 3:\n",
    "            if rline[0] != \"#\":\n",
    "                auxDat.append(rline[0])\n",
    "                aux += 1\n",
    "            if aux == 12 and rline[0] == \"#\":\n",
    "                datos.append(auxDat)\n",
    "                aux = 0\n",
    "                auxDat = []\n",
    "        #n += 1\n",
    "        #if n == 2000:\n",
    "        #    break\n",
    "#print (np.array(datos))\n",
    "#print(type(np.array(datos)))\n",
    "Xaxis = np.linspace(0,12,12)\n",
    "#for i in range(len(datos)):\n",
    "#    plt.plot(Xaxis,datos[i])\n",
    "datos = np.array(datos)\n",
    "Q = np.zeros(len(datos))\n",
    "for i in range(len(datos)):\n",
    "    Q[i] = sum(datos[i])\n",
    "#plt.plot(Q)\n",
    "##############################################\n",
    "Datmin = min(Q)\n",
    "Datmax = max(Q)\n",
    "nbins = 3000\n",
    "binwidth = (Datmax - Datmin)/nbins\n",
    "#crear un histograma\n",
    "hist1 = []\n",
    "hist = []\n",
    "pos = []\n",
    "[hist1.append(0) for i in range(nbins)]\n",
    "# determina los valores del histograma\n",
    "for i in Q:\n",
    "    hist1[ int(i) ] += 1\n",
    "# elimina la cantida de ceros del histograma\n",
    "# teniendo en cuenta que un dato se repite almenos una vez\n",
    "# es decir un dato existe una vez\n",
    "for i in range(len(hist1)):\n",
    "    if hist1[i] != 0:\n",
    "        pos.append(i)\n",
    "        hist.append(hist1[i])\n",
    "outDisdat = open(\"datafile.dat\",\"w\")\n",
    "outDisdat.write(\"# startbin %0.4f endbin %0.4f nbins %d\\n\" % (Datmin, Datmax, nbins))\n",
    "for i in range(len(hist)):\n",
    "    outDisdat.write('%0.2f  %0.2f\\n' % (pos[i] ,hist[i]))\n",
    "outDisdat.close()\n",
    "plt.step(pos,hist, where = 'mid', color = 'b', linewidth = 1)"
   ]
  },
  {
   "cell_type": "code",
   "execution_count": null,
   "metadata": {},
   "outputs": [],
   "source": []
  },
  {
   "cell_type": "code",
   "execution_count": null,
   "metadata": {},
   "outputs": [],
   "source": []
  }
 ],
 "metadata": {
  "kernelspec": {
   "display_name": "Python 3",
   "language": "python",
   "name": "python3"
  },
  "language_info": {
   "codemirror_mode": {
    "name": "ipython",
    "version": 3
   },
   "file_extension": ".py",
   "mimetype": "text/x-python",
   "name": "python",
   "nbconvert_exporter": "python",
   "pygments_lexer": "ipython3",
   "version": "3.7.3"
  }
 },
 "nbformat": 4,
 "nbformat_minor": 2
}
